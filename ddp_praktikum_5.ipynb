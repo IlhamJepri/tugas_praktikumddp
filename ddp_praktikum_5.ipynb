{
  "nbformat": 4,
  "nbformat_minor": 0,
  "metadata": {
    "colab": {
      "provenance": []
    },
    "kernelspec": {
      "name": "python3",
      "display_name": "Python 3"
    },
    "language_info": {
      "name": "python"
    }
  },
  "cells": [
    {
      "cell_type": "code",
      "execution_count": null,
      "metadata": {
        "colab": {
          "base_uri": "https://localhost:8080/"
        },
        "id": "m19oSYsMuVSG",
        "outputId": "781a9ae3-e7c6-43f4-9844-456d9d1834a1"
      },
      "outputs": [
        {
          "output_type": "stream",
          "name": "stdout",
          "text": [
            "nama kendaraan mobil\n",
            "jenis kendaraan sedan\n",
            "merk kendaraan toyota\n",
            "cc kendaraan 200\n",
            "warna kendaraan merah\n",
            "jumlah ban kendaraan 4\n",
            "harga kendaraan Rp 300jt\n"
          ]
        }
      ],
      "source": [
        "kendaraan=kendaraan=[\"mobil\",\"sedan\",\"toyota\",\"200\"]\n",
        "print(\"nama kendaraan\",kendaraan[0])\n",
        "print(\"jenis kendaraan\",kendaraan[1])\n",
        "print(\"merk kendaraan\",kendaraan[2])\n",
        "print(\"cc kendaraan\",kendaraan[3])\n",
        "kendaraan.insert(1,\"merah\")\n",
        "print(\"warna kendaraan\",kendaraan[1])\n",
        "kendaraan.insert(2,\"4\")\n",
        "print(\"jumlah ban kendaraan\",kendaraan[2])\n",
        "kendaraan.insert(3,\"Rp 300jt\")\n",
        "print(\"harga kendaraan\",kendaraan[3])\n",
        "\n",
        "\n"
      ]
    },
    {
      "cell_type": "code",
      "source": [
        "Pesan=\"\"\"\n",
        "Menu :\n",
        "1.menghitung luas persegi\n",
        "2.menghitung luas lingkaran\n",
        "3.menghitung luas segitiga\n",
        "pilihan menu:\n",
        "\"\"\"\n",
        "\n",
        "Pilihan = input(Pesan)\n",
        "\n",
        "match Pilihan:\n",
        "    case\"1\":\n",
        "      print(\"anda memasukan angka 1 untuk menghitung luas persegi\")\n",
        "      sisi = float(input(\"masukan sisi:\"))\n",
        "      luasp = sisi*sisi\n",
        "      print(\"luas persegi dengan sisi \",sisi, \"adalah\", luasp)\n",
        "    case\"2\":\n",
        "      print(\"kamu memasukan angka 2 untuk menghitung luas lingkarang\")\n",
        "      jari = float(input(\"masukan jari-jari: \"))\n",
        "      luasl =3,14*jari*jari\n",
        "      print(\"luas lingkaran yang jari-jarinya \",jari,\"adalah\",int(luasl))\n",
        "    case\"3\":\n",
        "      print(\"kamu memasukan angka 3 untuk menghitung luas segitiga\")\n",
        "      alas = int(input(\"masukan alas: \"))\n",
        "      tinggi = int(input(\"masukan tinggi: \"))\n",
        "      luass = 0,5*alas*tinggi\n",
        "      print(\"luas segitiga yang alasnya\",alas, \" dan tingginya \",tinggi,\" adalah\", luass)\n",
        "    case _:\n",
        "      print(\"anda salah memilih\")"
      ],
      "metadata": {
        "colab": {
          "base_uri": "https://localhost:8080/"
        },
        "id": "xkOz3z2c0u3x",
        "outputId": "15c5e217-36ca-419b-c0be-55839f27a0b9"
      },
      "execution_count": null,
      "outputs": [
        {
          "output_type": "stream",
          "name": "stdout",
          "text": [
            "\n",
            "Menu :\n",
            "1.menghitung luas persegi\n",
            "2.menghitung luas lingkaran\n",
            "3.menghitung luas segitiga\n",
            "pilihan menu:\n",
            "1\n",
            "anda memasukan angka 1 untuk menghitung luas persegi\n",
            "masukan sisi:15\n",
            "luas persegi dengan sisi  15.0 adalah 225.0\n"
          ]
        }
      ]
    },
    {
      "cell_type": "markdown",
      "source": [],
      "metadata": {
        "id": "d2QL3AVVu79U"
      }
    }
  ]
}